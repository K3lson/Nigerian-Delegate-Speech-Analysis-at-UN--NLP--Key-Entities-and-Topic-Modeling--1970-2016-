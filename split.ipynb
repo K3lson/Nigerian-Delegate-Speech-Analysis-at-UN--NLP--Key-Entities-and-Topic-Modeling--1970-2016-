{
 "cells": [
  {
   "cell_type": "code",
   "execution_count": 9,
   "metadata": {},
   "outputs": [],
   "source": [
    "import csv\n",
    "\n",
    "# Open the CSV file\n",
    "with open('./un-general-debates.csv', 'r') as file:\n",
    "    reader = csv.DictReader(file)\n",
    "\n",
    "    # Loop through each row in the CSV file\n",
    "    for row in reader:\n",
    "\n",
    "        # Check if the country is Nigeria\n",
    "        if row['country'] == 'NGA':\n",
    "\n",
    "            # Save the speech in a separate file\n",
    "            year = row['year'][0:4]  # Get the year from the session date\n",
    "            filename = f'nigeria_speech_{year}.txt'\n",
    "            with open(filename, 'a') as output_file:\n",
    "                output_file.write(f'{year}\\n\\n{row[\"text\"]}\\n\\n')\n",
    "\n"
   ]
  }
 ],
 "metadata": {
  "kernelspec": {
   "display_name": "base",
   "language": "python",
   "name": "python3"
  },
  "language_info": {
   "codemirror_mode": {
    "name": "ipython",
    "version": 3
   },
   "file_extension": ".py",
   "mimetype": "text/x-python",
   "name": "python",
   "nbconvert_exporter": "python",
   "pygments_lexer": "ipython3",
   "version": "3.9.13"
  },
  "orig_nbformat": 4
 },
 "nbformat": 4,
 "nbformat_minor": 2
}
